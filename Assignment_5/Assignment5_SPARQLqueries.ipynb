{
 "cells": [
  {
   "cell_type": "markdown",
   "metadata": {},
   "source": [
    "# Assignment 5: SPARQL queries - Sergio Gonzalez Ruiz\n",
    "\n",
    "UniProt SPARQL Endpoint: http://sparql.uniprot.org/sparql"
   ]
  },
  {
   "cell_type": "markdown",
   "metadata": {},
   "source": [
    "First of all, we must select an ***endpoint*** (otherwise the query will fail) and a data ***format*** requested to the SPARQL endpoint. In order to do this, we will use **\"magic instructions\" ('%')**, whose documentation can be found here --> https://github.com/paulovn/sparql-kernel/blob/master/doc/magics.rst"
   ]
  },
  {
   "cell_type": "code",
   "execution_count": 2,
   "metadata": {},
   "outputs": [
    {
     "data": {
      "text/html": [
       "<div class=\"krn-spql\"><div class=\"magic\">Endpoint set to: https://sparql.uniprot.org/sparql</div><div class=\"magic\">Return format: JSON</div></div>"
      ],
      "text/plain": [
       "Endpoint set to: https://sparql.uniprot.org/sparql\n",
       "Return format: JSON\n"
      ]
     },
     "metadata": {},
     "output_type": "display_data"
    }
   ],
   "source": [
    "%endpoint https://sparql.uniprot.org/sparql\n",
    "%format JSON"
   ]
  },
  {
   "cell_type": "markdown",
   "metadata": {},
   "source": [
    "## **Q1: 1 POINT** How many protein records are in UniProt?"
   ]
  },
  {
   "cell_type": "markdown",
   "metadata": {},
   "source": [
    "**Warning**: There are more than *360 millions protein records in UniProt*, so this command has quite a lot of computational complexity. Thus, it took quite a long time to process the final result."
   ]
  },
  {
   "cell_type": "code",
   "execution_count": 2,
   "metadata": {},
   "outputs": [
    {
     "data": {
      "text/html": [
       "<div class=\"krn-spql\"><table><tr class=hdr><th>proteincount</th></tr><tr class=odd><td class=val>360157660</td></tr></table><div class=\"tinfo\">Total: 1, Shown: 1</div></div>"
      ]
     },
     "metadata": {},
     "output_type": "display_data"
    }
   ],
   "source": [
    "PREFIX up:<http://purl.uniprot.org/core/> \n",
    "\n",
    "SELECT (COUNT (DISTINCT ?protein) AS ?proteincount)\n",
    "WHERE \n",
    "{\n",
    "    ?protein a up:Protein .\n",
    "}"
   ]
  },
  {
   "cell_type": "markdown",
   "metadata": {},
   "source": [
    "Therefore, to **make the computational process more optimal**, an approximate result can be obtained, using the same script as before, but **removing the DISTINCT function**. In this way, ***we will not check duplicate protein records, but we will greatly reduce the processing time.***"
   ]
  },
  {
   "cell_type": "code",
   "execution_count": 16,
   "metadata": {},
   "outputs": [
    {
     "data": {
      "text/html": [
       "<div class=\"krn-spql\"><table><tr class=hdr><th>proteincount</th></tr><tr class=odd><td class=val>360157660</td></tr></table><div class=\"tinfo\">Total: 1, Shown: 1</div></div>"
      ]
     },
     "metadata": {},
     "output_type": "display_data"
    }
   ],
   "source": [
    "PREFIX up:<http://purl.uniprot.org/core/> \n",
    "\n",
    "SELECT (COUNT (?protein) AS ?proteincount)\n",
    "WHERE \n",
    "{\n",
    "    ?protein a up:Protein .\n",
    "}"
   ]
  },
  {
   "cell_type": "markdown",
   "metadata": {},
   "source": [
    "## **Q2: 1 POINT** How many Arabidopsis thaliana protein records are in UniProt?"
   ]
  },
  {
   "cell_type": "code",
   "execution_count": 3,
   "metadata": {},
   "outputs": [
    {
     "data": {
      "text/html": [
       "<div class=\"krn-spql\"><table><tr class=hdr><th>proteincount</th></tr><tr class=odd><td class=val>136782</td></tr></table><div class=\"tinfo\">Total: 1, Shown: 1</div></div>"
      ]
     },
     "metadata": {},
     "output_type": "display_data"
    }
   ],
   "source": [
    "PREFIX up:<http://purl.uniprot.org/core/> \n",
    "PREFIX taxon:<http://purl.uniprot.org/taxonomy/> \n",
    "\n",
    "SELECT (COUNT(DISTINCT ?protein) AS ?proteincount)\n",
    "WHERE \n",
    "{\n",
    "    ?protein a up:Protein .\n",
    "    ?protein up:organism taxon:3702 .\n",
    "}"
   ]
  },
  {
   "cell_type": "markdown",
   "metadata": {},
   "source": [
    "## **Q3: 1 POINT** retrieve pictures of Arabidopsis thaliana from UniProt?"
   ]
  },
  {
   "cell_type": "code",
   "execution_count": 5,
   "metadata": {},
   "outputs": [
    {
     "data": {
      "text/html": [
       "<div class=\"krn-spql\"><table><tr class=hdr><th>image</th></tr><tr class=odd><td class=val><a href=\"https://upload.wikimedia.org/wikipedia/commons/3/39/Arabidopsis.jpg\" target=\"_other\">https://upload.wikimedia.org/wikipedia/commons/3/39/Arabidopsis.jpg</a></td></tr><tr class=even><td class=val><a href=\"https://upload.wikimedia.org/wikipedia/commons/thumb/6/60/Arabidopsis_thaliana_inflorescencias.jpg/800px-Arabidopsis_thaliana_inflorescencias.jpg\" target=\"_other\">https://upload.wikimedia.org/wikipedia/commons/thumb/6/60/Arabidopsis_thaliana_inflorescencias.jpg/800px-Arabidopsis_thaliana_inflorescencias.jpg</a></td></tr></table><div class=\"tinfo\">Total: 2, Shown: 2</div></div>"
      ]
     },
     "metadata": {},
     "output_type": "display_data"
    }
   ],
   "source": [
    "PREFIX up: <http://purl.uniprot.org/core/>\n",
    "PREFIX foaf: <http://xmlns.com/foaf/0.1/>\n",
    "\n",
    "SELECT ?image\n",
    "\n",
    "WHERE\n",
    "{\n",
    "  ?taxon a up:Taxon .\n",
    "  ?taxon up:scientificName \"Arabidopsis thaliana\" . \n",
    "  ?taxon foaf:depiction ?image .\n",
    "  ?image a foaf:Image .\n",
    "}"
   ]
  },
  {
   "cell_type": "markdown",
   "metadata": {},
   "source": [
    "## **Q4: 1 POINT** What is the description of the enzyme activity of UniProt Protein Q9SZZ8"
   ]
  },
  {
   "cell_type": "code",
   "execution_count": 8,
   "metadata": {},
   "outputs": [
    {
     "data": {
      "text/html": [
       "<div class=\"krn-spql\"><table><tr class=hdr><th>name</th>\n",
       "<th>activity</th></tr><tr class=odd><td class=val>Beta-carotene 3-hydroxylase</td>\n",
       "<td class=val>Beta-carotene + 4 reduced ferredoxin [iron-sulfur] cluster + 2 H(+) + 2 O(2) = zeaxanthin + 4 oxidized ferredoxin [iron-sulfur] cluster + 2 H(2)O.</td></tr></table><div class=\"tinfo\">Total: 1, Shown: 1</div></div>"
      ]
     },
     "metadata": {},
     "output_type": "display_data"
    }
   ],
   "source": [
    "PREFIX up:<http://purl.uniprot.org/core/>\n",
    "PREFIX rdfs:<http://www.w3.org/2000/01/rdf-schema#>\n",
    "PREFIX skos:<http://www.w3.org/2004/02/skos/core#> \n",
    "PREFIX uniprotkb:<http://purl.uniprot.org/uniprot/>\n",
    "\n",
    "SELECT ?name ?activity\n",
    "WHERE\n",
    "{\n",
    "    uniprotkb:Q9SZZ8 up:enzyme ?enzyme .\n",
    "    ?enzyme skos:prefLabel ?name .\n",
    "    ?enzyme up:activity ?act .\n",
    "    ?act rdfs:label ?activity.\n",
    "}\n"
   ]
  },
  {
   "cell_type": "markdown",
   "metadata": {},
   "source": [
    "## **Q5: 1 POINT** Retrieve the proteins ids, and date of submission, for proteins that have been added to UniProt this year (HINT Google for “SPARQL FILTER by date”)"
   ]
  },
  {
   "cell_type": "markdown",
   "metadata": {},
   "source": [
    "Although the current date is *January 2022*, the entire year of **2021** has been considered, due to that this assignment was given to us at the end of 2021.\n",
    "\n",
    "As I don't want it to take forever, and as the purpose of the exercise is already fulfilled, we will simply get **50 results**, because if we don't limit the search, the jupyter notebook keeps loading, until it ends up disconnecting."
   ]
  },
  {
   "cell_type": "code",
   "execution_count": 11,
   "metadata": {},
   "outputs": [
    {
     "data": {
      "text/html": [
       "<div class=\"krn-spql\"><table><tr class=hdr><th>id</th>\n",
       "<th>date</th></tr><tr class=odd><td class=val>A0A7G2MLB1</td>\n",
       "<td class=val>2021-02-10</td></tr><tr class=even><td class=val>A0A7G9FM31</td>\n",
       "<td class=val>2021-02-10</td></tr><tr class=odd><td class=val>A0A7G9FPS4</td>\n",
       "<td class=val>2021-02-10</td></tr><tr class=even><td class=val>A0A7G9FQN4</td>\n",
       "<td class=val>2021-02-10</td></tr><tr class=odd><td class=val>A0A7G9FW33</td>\n",
       "<td class=val>2021-02-10</td></tr><tr class=even><td class=val>A0A7G9G064</td>\n",
       "<td class=val>2021-02-10</td></tr><tr class=odd><td class=val>A0A7G9GB08</td>\n",
       "<td class=val>2021-02-10</td></tr><tr class=even><td class=val>A0A7G9GCB7</td>\n",
       "<td class=val>2021-02-10</td></tr><tr class=odd><td class=val>A0A7G9GFA3</td>\n",
       "<td class=val>2021-02-10</td></tr><tr class=even><td class=val>A0A7G9GGH4</td>\n",
       "<td class=val>2021-02-10</td></tr><tr class=odd><td class=val>A0A7G2MGA3</td>\n",
       "<td class=val>2021-02-10</td></tr><tr class=even><td class=val>A0A7G2MH76</td>\n",
       "<td class=val>2021-02-10</td></tr><tr class=odd><td class=val>A0A7G2MI31</td>\n",
       "<td class=val>2021-02-10</td></tr><tr class=even><td class=val>A0A7G2MJ31</td>\n",
       "<td class=val>2021-02-10</td></tr><tr class=odd><td class=val>A0A7G9FN10</td>\n",
       "<td class=val>2021-02-10</td></tr><tr class=even><td class=val>A0A7G9FQX7</td>\n",
       "<td class=val>2021-02-10</td></tr><tr class=odd><td class=val>A0A7G9FSR1</td>\n",
       "<td class=val>2021-02-10</td></tr><tr class=even><td class=val>A0A7G9FUI3</td>\n",
       "<td class=val>2021-02-10</td></tr><tr class=odd><td class=val>A0A7G9FZA7</td>\n",
       "<td class=val>2021-02-10</td></tr><tr class=even><td class=val>A0A7G9GAI0</td>\n",
       "<td class=val>2021-02-10</td></tr></table><div class=\"tinfo\">Total: 50, Shown: 20</div></div>"
      ]
     },
     "metadata": {},
     "output_type": "display_data"
    }
   ],
   "source": [
    "# How to Manage Date Range SPARQL queries? --> http://docs.openlinksw.com/virtuoso/virtuosotipsandtricksmanagedaterangequery/\n",
    "\n",
    "PREFIX up:<http://purl.uniprot.org/core/> \n",
    "PREFIX xsd: <http://www.w3.org/2001/XMLSchema#>\n",
    "\n",
    "SELECT ?id ?date \n",
    "WHERE\n",
    "{\n",
    "    ?protein a up:Protein . \n",
    "    ?protein up:created ?date .\n",
    "    FILTER(?date >= xsd:date(\"2021-01-01\") && ?date < xsd:date(\"2022-01-01\")) . # Including 2021-01-01, but not 2022-01-01\n",
    "    BIND (REPLACE(STR(?protein), \"http://purl.uniprot.org/uniprot/\", \"\") AS ?id) .\n",
    "} ORDER BY ?date LIMIT 50\n"
   ]
  },
  {
   "cell_type": "markdown",
   "metadata": {},
   "source": [
    "## **Q6: 1 POINT** How many species are in the UniProt taxonomy?"
   ]
  },
  {
   "cell_type": "code",
   "execution_count": 27,
   "metadata": {},
   "outputs": [
    {
     "data": {
      "text/html": [
       "<div class=\"krn-spql\"><table><tr class=hdr><th>species_number</th></tr><tr class=odd><td class=val>2029846</td></tr></table><div class=\"tinfo\">Total: 1, Shown: 1</div></div>"
      ]
     },
     "metadata": {},
     "output_type": "display_data"
    }
   ],
   "source": [
    "PREFIX up:<http://purl.uniprot.org/core/> \n",
    " \n",
    "SELECT (COUNT (DISTINCT ?species) AS ?species_number)\n",
    "WHERE\n",
    "{\n",
    "    ?species a up:Taxon .\n",
    "    ?species up:rank up:Species .\n",
    "}"
   ]
  },
  {
   "cell_type": "markdown",
   "metadata": {},
   "source": [
    "## **Q7: 2 POINT** How many species have at least one protein record? (this might take a long time to execute, so do this one last!)"
   ]
  },
  {
   "cell_type": "code",
   "execution_count": 67,
   "metadata": {},
   "outputs": [
    {
     "data": {
      "text/html": [
       "<div class=\"krn-spql\"><table><tr class=hdr><th>species_number_with_protein_record</th></tr><tr class=odd><td class=val>1057158</td></tr></table><div class=\"tinfo\">Total: 1, Shown: 1</div></div>"
      ]
     },
     "metadata": {},
     "output_type": "display_data"
    }
   ],
   "source": [
    "PREFIX up:<http://purl.uniprot.org/core/> \n",
    "\n",
    "SELECT (COUNT(DISTINCT ?species) AS ?species_number_with_protein_record)\n",
    "WHERE \n",
    "{\n",
    "    ?protein a up:Protein .\n",
    "    ?protein up:organism ?species .\n",
    "    ?species a up:Taxon .\n",
    "    ?species up:rank up:Species .\n",
    "}"
   ]
  },
  {
   "cell_type": "markdown",
   "metadata": {},
   "source": [
    "## **Q8: 3 points:** find the AGI codes and gene names for all Arabidopsis thaliana proteins that have a protein function annotation description that mentions “pattern formation”"
   ]
  },
  {
   "cell_type": "code",
   "execution_count": 19,
   "metadata": {},
   "outputs": [
    {
     "data": {
      "text/html": [
       "<div class=\"krn-spql\"><table><tr class=hdr><th>AGI</th>\n",
       "<th>geneName</th></tr><tr class=odd><td class=val>At3g54220</td>\n",
       "<td class=val>SCR</td></tr><tr class=even><td class=val>At1g13980</td>\n",
       "<td class=val>GN</td></tr><tr class=odd><td class=val>At4g21750</td>\n",
       "<td class=val>ATML1</td></tr><tr class=even><td class=val>At5g40260</td>\n",
       "<td class=val>SWEET8</td></tr><tr class=odd><td class=val>At1g69670</td>\n",
       "<td class=val>CUL3B</td></tr><tr class=even><td class=val>At1g63700</td>\n",
       "<td class=val>YDA</td></tr><tr class=odd><td class=val>At2g46710</td>\n",
       "<td class=val>ROPGAP3</td></tr><tr class=even><td class=val>At1g26830</td>\n",
       "<td class=val>CUL3A</td></tr><tr class=odd><td class=val>At3g09090</td>\n",
       "<td class=val>DEX1</td></tr><tr class=even><td class=val>At4g37650</td>\n",
       "<td class=val>SHR</td></tr><tr class=odd><td class=val>At5g55250</td>\n",
       "<td class=val>IAMT1</td></tr><tr class=even><td class=val>At3g02130</td>\n",
       "<td class=val>RPK2</td></tr><tr class=odd><td class=val>At2g42580</td>\n",
       "<td class=val>TTL3</td></tr><tr class=even><td class=val>At1g69270</td>\n",
       "<td class=val>RPK1</td></tr><tr class=odd><td class=val>At5g02010</td>\n",
       "<td class=val>ROPGEF7</td></tr><tr class=even><td class=val>At1g66470</td>\n",
       "<td class=val>RHD6</td></tr><tr class=odd><td class=val>At5g37800</td>\n",
       "<td class=val>RSL1</td></tr></table><div class=\"tinfo\">Total: 17, Shown: 17</div></div>"
      ]
     },
     "metadata": {},
     "output_type": "display_data"
    }
   ],
   "source": [
    "PREFIX up: <http://purl.uniprot.org/core/>\n",
    "PREFIX taxon:<http://purl.uniprot.org/taxonomy/> \n",
    "PREFIX rdfs:<http://www.w3.org/2000/01/rdf-schema#>\n",
    "PREFIX skos: <http://www.w3.org/2004/02/skos/core#>\n",
    "\n",
    "SELECT ?AGI ?geneName\n",
    "\n",
    "WHERE\n",
    "{\n",
    "    ?protein a up:Protein .\n",
    "    ?protein up:organism taxon:3702 . # Protein variable involved with its taxon (Arabidopsis thaliana)\n",
    "    ?protein up:encodedBy ?gene . # Protein variable involved with each gene\n",
    "    ?protein up:annotation ?annotation. # Protein variable involved with each annotation or function\n",
    "    ?gene up:locusName ?AGI . # AGI locus code of each gene\n",
    "    ?gene skos:prefLabel ?geneName . # label selected (gene name) of each gene\n",
    "    ?annotation a up:Function_Annotation . \n",
    "    ?annotation rdfs:comment ?text .\n",
    "    FILTER CONTAINS(?text,\"pattern formation\") . # Applying the filter stablished above\n",
    "\n",
    "}\n"
   ]
  },
  {
   "cell_type": "markdown",
   "metadata": {},
   "source": [
    "## From the MetaNetX metabolic networks for metagenomics database SPARQL Endpoint: https://rdf.metanetx.org/sparql (this slide deck will make it much easier for you!\n",
    "https://www.metanetx.org/cgi-bin/mnxget/mnxref/MetaNetX_RDF_schema.pdf)\n",
    "\n",
    "Therefore, we redefine the **endpoint** as follows:"
   ]
  },
  {
   "cell_type": "code",
   "execution_count": 29,
   "metadata": {},
   "outputs": [
    {
     "data": {
      "text/html": [
       "<div class=\"krn-spql\"><div class=\"magic\">Endpoint set to: https://rdf.metanetx.org/sparql</div></div>"
      ],
      "text/plain": [
       "Endpoint set to: https://rdf.metanetx.org/sparql\n"
      ]
     },
     "metadata": {},
     "output_type": "display_data"
    }
   ],
   "source": [
    "%endpoint https://rdf.metanetx.org/sparql"
   ]
  },
  {
   "cell_type": "markdown",
   "metadata": {},
   "source": [
    "## **Q9: 4 POINTS:** what is the MetaNetX Reaction identifier (starts with “mnxr”) for the UniProt Protein uniprotkb:Q18A79"
   ]
  },
  {
   "cell_type": "code",
   "execution_count": 30,
   "metadata": {},
   "outputs": [
    {
     "data": {
      "text/html": [
       "<div class=\"krn-spql\"><table><tr class=hdr><th>mnxr_label</th></tr><tr class=odd><td class=val>mnxr165934</td></tr><tr class=even><td class=val>mnxr145046c3</td></tr></table><div class=\"tinfo\">Total: 2, Shown: 2</div></div>"
      ]
     },
     "metadata": {},
     "output_type": "display_data"
    }
   ],
   "source": [
    "PREFIX mnx: <https://rdf.metanetx.org/schema/>\n",
    "PREFIX rdfs: <http://www.w3.org/2000/01/rdf-schema#>\n",
    "PREFIX uniprotkb: <http://purl.uniprot.org/uniprot/>\n",
    "\n",
    "SELECT DISTINCT ?mnxr_label # With \"DISTINCT\" we avoid duplicate results\n",
    "WHERE\n",
    "{\n",
    "    ?pept mnx:peptXref uniprotkb:Q18A79 .\n",
    "    ?cata mnx:pept ?pept .\n",
    "    ?gpr mnx:cata ?cata ;\n",
    "         mnx:reac ?reaction_id .\n",
    "    ?reaction_id rdfs:label ?mnxr_label .\n",
    "\n",
    "}"
   ]
  },
  {
   "cell_type": "markdown",
   "metadata": {},
   "source": [
    "Thus, for the *same protein*, **2 MetaNetX Reaction identifiers** have been obtained:\n",
    "* **MNXR165934**: 1 {(1->4)-alpha-D-glucosyl}(n) + 1 ADP-alpha-D-glucose <=> 1 ADP + 1 {(1->4)-alpha-D-glucosyl}(n+1) --> https://www.metanetx.org/equa_info/MNXR165934\n",
    "* **MNXR145046(c3)**: 1 ADP-alpha-D-glucose <=> 1 ADP + 1 Glycogen --> https://www.metanetx.org/equa_info/MNXR145046\n",
    "\n",
    "As it can be seen, the *first one* considers the **specific part that is involved in the reaction**: {(1->4)-alpha-D-glucosyl}(n), while the *other* considers the **Glycogen as a whole unit**."
   ]
  },
  {
   "cell_type": "markdown",
   "metadata": {},
   "source": [
    "## **Q10: 5 POINTS:** What is the official Gene ID (UniProt calls this a “mnemonic”) and the MetaNetX Reaction identifier (mnxr…..) for the protein that has “Starch synthase” catalytic activity in Clostridium difficile (taxon 272563)."
   ]
  },
  {
   "cell_type": "code",
   "execution_count": 66,
   "metadata": {},
   "outputs": [
    {
     "data": {
      "text/html": [
       "<div class=\"krn-spql\"><table><tr class=hdr><th>proteinRef</th>\n",
       "<th>Gene_ID</th>\n",
       "<th>MetaNetX_Reaction_ID</th>\n",
       "<th>activity</th></tr><tr class=odd><td class=val><a href=\"http://purl.uniprot.org/uniprot/Q18A79\" target=\"_other\">http://purl.uniprot.org/uniprot/Q18A79</a></td>\n",
       "<td class=val>GLGA_CLOD6</td>\n",
       "<td class=val>mnxr145046c3</td>\n",
       "<td class=val>starch synthase activity</td></tr><tr class=even><td class=val><a href=\"http://purl.uniprot.org/uniprot/Q18A79\" target=\"_other\">http://purl.uniprot.org/uniprot/Q18A79</a></td>\n",
       "<td class=val>GLGA_CLOD6</td>\n",
       "<td class=val>mnxr165934</td>\n",
       "<td class=val>starch synthase activity</td></tr></table><div class=\"tinfo\">Total: 2, Shown: 2</div></div>"
      ]
     },
     "metadata": {},
     "output_type": "display_data"
    }
   ],
   "source": [
    "PREFIX up: <http://purl.uniprot.org/core/>\n",
    "PREFIX taxon: <http://purl.uniprot.org/taxonomy/>\n",
    "PREFIX mnx: <https://rdf.metanetx.org/schema/>\n",
    "PREFIX rdfs: <http://www.w3.org/2000/01/rdf-schema#>\n",
    "PREFIX uniprotkb: <http://purl.uniprot.org/uniprot/>\n",
    "\n",
    "SELECT ?proteinRef ?Gene_ID ?MetaNetX_Reaction_ID ?activity\n",
    "WHERE\n",
    "{\n",
    "    # First of all, we need to switch back to the Uniprot endpoint:\n",
    "    service <http://sparql.uniprot.org/sparql> {\n",
    "        ?protein a up:Protein .\n",
    "        ?protein up:organism taxon:272563 . # Selecting a protein from Clostridium difficile (taxon 272563)\n",
    "        ?protein up:mnemonic ?Gene_ID . # Official Gene ID for the protein selected\n",
    "        ?protein up:classifiedWith ?goTerm . # GO term associated with the protein selected\n",
    "        ?goTerm rdfs:label ?activity . # GO term of molecular activity or function\n",
    "        FILTER CONTAINS(?activity, \"starch synthase\") # Applying the filter stablished above\n",
    "        BIND (SUBSTR(STR(?protein),33) as ?proteinID)\n",
    "        BIND (IRI(CONCAT(uniprotkb:,?proteinID)) as ?proteinRef)\n",
    "    }\n",
    "    # Switching back to the MetaNetX endpoint:  \n",
    "    service <https://rdf.metanetx.org/sparql> {\n",
    "        # This part is actually quite the same as in Q9:\n",
    "        ?pept mnx:peptXref ?proteinRef . # We search for the protein stablished above\n",
    "        ?cata mnx:pept ?pept .\n",
    "        ?gpr mnx:cata ?cata ;\n",
    "             mnx:reac ?reac .\n",
    "        ?reac rdfs:label ?MetaNetX_Reaction_ID .\n",
    "    }\n",
    "} GROUP BY ?Gene_ID"
   ]
  },
  {
   "cell_type": "markdown",
   "metadata": {},
   "source": [
    "The ***MetaNetX Reaction identifier*** results obtained in this question coincide with those of the previous one (Q9). Therefore, the official ***Gene ID*** will be **GLGA_CLOD6** (the same for both results), as they represent **2 different reactions of the same protein**. "
   ]
  }
 ],
 "metadata": {
  "kernelspec": {
   "display_name": "SPARQL",
   "language": "sparql",
   "name": "sparql"
  },
  "language_info": {
   "codemirror_mode": {
    "name": "sparql"
   },
   "mimetype": "application/sparql-query",
   "name": "sparql",
   "pygments_lexer": "sparql-nb"
  }
 },
 "nbformat": 4,
 "nbformat_minor": 2
}
